{
  "cells": [
    {
      "metadata": {
        "_uuid": "1fe3e8c3c989d49b3d02daf2ccc8979a39c76255"
      },
      "cell_type": "markdown",
      "source": "# Digit Recognizer using MNIST Dataset\n**<h2> Using concepts of Digital Image Processing and Machine Learning </h2>**\n* **1. Introduction**\n  * 1.1 What is Digital Image Processing?\n  * 1.2 Image Processing Techniques used in this Project\n  * 1.3 What is Machine Learning?\n  * 1.4 ML Models used in this topic\n* **2. Data preparation and Image Processing**\n    * 2.1 Load data and Image Preprocessing\n    * 2.2 Image Sharpening\n* **3. Machine Learning Model**\n    * 3.1 Using Support Vector Machine(SVM) on unprocessed dataset\n    * 3.2 Using Radial Basis Function Kernel (RBF) on unprocessed dataset\n    * 3.2 Using Support Vector Machine(SVM) on processed dataset\n    * 3.3 Using Radial Basis Function Kernel (RBF) on processed dataset\n* **4. Prediction and submission**\n    * 4.1 Predicting the test data using the trained RBF Kernel\n    * 4.2 Labelling the Output and Submission\n"
    },
    {
      "metadata": {
        "_uuid": "e80bee87c4c556d2e4e5566815e11d4cdbb3d9e0"
      },
      "cell_type": "markdown",
      "source": "# 1. Introduction\n## 1.1 What is Digital Image Processing?\nDigital Image is an image or picture represented digitally i.e., in groups of combinations bits( 0 or 1) or specifically called pixels.\n\nDigital Image Processing:\nDigital Image Processing (or in short DIP) is the technology  of manipulating these groups of bits( or pixels) to enhance the quality of the image or create different perspectives or to extract information from the image digitally, with the help of computer algorithms.\n<img src=\"https://image.slidesharecdn.com/digitalimageprocessingimgsmoothning-120330085953-phpapp02/95/digital-image-processing-img-smoothning-7-728.jpg\" width=\"550px\"/>\n\n## 1.2 Image Processing Technqiues used in this Project\n### Image Normalization\nIn image processing, normalization is a process that changes the range of pixel intensity values. \nApplications include photographs with poor contrast due to glare.\nNormalization is sometimes called contrast or histogram stretching.\n<img src=\"http://www.giassa.net/wp-content/uploads/2010/01/hist-compare1.png\" width=\"250px\"/>\n### Grayscale Image\nGrayscale is a range of monochromatic shades from black to white. \nTherefore, a grayscale image contains only shades of gray and no color.\n<img src=\"https://res.cloudinary.com/demo/image/upload/e_grayscale/happy_dog.jpg\" width=\"250px\"/>\n### Binary Image\nA binary image is a digital image that has only two possible values for each pixel.\nThe two colors used for a binary image are black and white. \nThe color used for the object in the image is the foreground color while the rest of the image is the background color\n<img src=\"https://www.digitaltechnologieshub.edu.au/images/default-source/Lesson-ideas-details/using-binary-to-create-on-off-pictures.jpg\" width=\"250px\"/>\n## 1.3 What is Machine Learning?\n\nMachine learning is an application of artificial intelligence (AI) that provides systems the ability to automatically learn and improve from experience without being explicitly programmed.The process of learning begins with observations or data, such as examples, direct experience, or instruction, in order to look for patterns in data and make better decisions in the future based on the examples that we provide. The primary aim is to allow the computers learn automatically without human intervention or assistance and adjust actions accordingly.\n\n ### Types of Machine Learning Algorithms:\n\nSupervised machine learning algorithms can apply what has been learned in the past to new data using labeled examples to predict future events. Starting from the analysis of a known training dataset, the learning algorithm produces an inferred function to make predictions about the output values. The system is able to provide targets for any new input after sufficient training. The learning algorithm can also compare its output with the correct, intended output and find errors in order to modify the model accordingly.\n\nUnsupervised machine learning algorithms are used when the information used to train is neither classified nor labeled. Unsupervised learning studies how systems can infer a function to describe a hidden structure from unlabeled data. The system doesn’t figure out the right output, but it explores the data and can draw inferences from datasets to describe hidden structures from unlabeled data.\n<img src=\"https://cdn-images-1.medium.com/max/1600/1*AZMDyaifxGVdwTV-1BN7kA.png\"  style=\"width:450px;\"/>\n\n## 1.4 ML Models used in this Project\n### Support Vector Machine (SVM)\nSupport vector machines (SVM's) are supervised learning models with associated learning algorithms that analyze data used for classification and regression analysis. An SVM model is a representation of the examples as points in space, mapped so that the examples of the separate categories are divided by a clear gap that is as wide as possible.SVM is non-probabilistic binary linear classifier.\n<img src=\"http://www.saedsayad.com/images/SVM_2.png\" width=\"250px;\"/>\n### Radial Basis Fuction(RBF)\nRadial Basis Function (RBF) is a supervised learning model with associated radial basis functions that analyze data used for classification and regression analysis. A radial basis function (RBF) is a real-valued function f(x) whose value depends only on the distance from the origin, so that f(x)=f(||x||). An RBF model is a non - linear classifier and can implement a linear decision boundary set or a non linear decision boundary set based on the gamma value.RBF Kernel has the formula\n<img src=\"https://wikimedia.org/api/rest_v1/media/math/render/svg/513a31a936b91e04dae78cdf630d1d8c7ab5186b\" width=\"250px;\"/>\nwhere |x-x'| is the squared Euclidean distance between the two feature vectors and γ is a free paramater\n<img src=\"http://openclassroom.stanford.edu/MainFolder/courses/MachineLearning/exercises/ex8materials/ex8a_fill.png\" width=\"250px;\"/>\n### RBF for Various Gamma Values\n#### For Gamma =1\n<img src=\"http://openclassroom.stanford.edu/MainFolder/courses/MachineLearning/exercises/ex8materials/ex8b_1.png\" width=\"250px;\"/>\n#### For Gamma =10\n<img src=\"http://openclassroom.stanford.edu/MainFolder/courses/MachineLearning/exercises/ex8materials/ex8b_10.png\" width=\"250px;\"/>\n#### For Gamma =100\n<img width=\"250px;\" src= \"http://openclassroom.stanford.edu/MainFolder/courses/MachineLearning/exercises/ex8materials/ex8b_100.png\" />\n#### For Gamma =1000\n<img width=\"250px;\" src= \"http://openclassroom.stanford.edu/MainFolder/courses/MachineLearning/exercises/ex8materials/ex8b_100.png\" />"
    },
    {
      "metadata": {
        "_uuid": "db03a0e8695e55440b554cf4e1ed87a94d19238f"
      },
      "cell_type": "markdown",
      "source": "# 2. Data preparation and Image Processing\n## 2.1 Loading the data and Image Preprocessing\n### 2.1.1 Initialization"
    },
    {
      "metadata": {
        "_uuid": "8f2839f25d086af736a60e9eeb907d3b93b6e0e5",
        "_cell_guid": "b1076dfc-b9ad-4769-8c92-a6c4dae69d19",
        "trusted": true,
        "_kg_hide-output": false
      },
      "cell_type": "code",
      "source": "# This Python 3 environment comes with many helpful analytics libraries installed\n# It is defined by the kaggle/python docker image: https://github.com/kaggle/docker-python\n# For example, here's several helpful packages to load in \n\nimport numpy as np # linear algebra\nimport pandas as pd # data processing, CSV file I/O (e.g. pd.read_csv)\n\n# Input data files are available in the \"../input/\" directory.\n# For example, running this (by clicking run or pressing Shift+Enter) will list the files in the input directory\n\nimport os\nprint(os.listdir(\"../input\"))\n\n# Any results you write to the current directory are saved as output.",
      "execution_count": null,
      "outputs": []
    },
    {
      "metadata": {
        "_cell_guid": "79c7e3d0-c299-4dcb-8224-4455121ee9b0",
        "collapsed": true,
        "_uuid": "d629ff2d2480ee46fbb7e2d37f6b5fab8052498a",
        "trusted": false
      },
      "cell_type": "markdown",
      "source": "### 2.1.2 Importing the Necessary Libraries"
    },
    {
      "metadata": {
        "trusted": true,
        "_uuid": "83d02adf01cd7f5041eb7b7dae06d5306f3c214c"
      },
      "cell_type": "code",
      "source": "import pandas as pd\nimport matplotlib.pyplot as plt, matplotlib.image as mpimg\nfrom sklearn.model_selection import train_test_split\nfrom sklearn import svm\nimport numpy as np\nimport cv2\n%matplotlib inline",
      "execution_count": null,
      "outputs": []
    },
    {
      "metadata": {
        "_uuid": "0c8468dd5de821d49d7376cef85e87e55d33190f"
      },
      "cell_type": "markdown",
      "source": "### 2.1.3 Loading the data"
    },
    {
      "metadata": {
        "trusted": true,
        "_uuid": "8642570b5f1302806fd385146b8624d577bce3a4"
      },
      "cell_type": "code",
      "source": "lim=8000\nlabeled_images = pd.read_csv('../input/train.csv')\ntest_data=pd.read_csv('../input/test.csv')\nimages = labeled_images.iloc[0:lim,1:]\nlabels = labeled_images.iloc[0:lim,:1]\ntrain_images, test_images,train_labels, test_labels = train_test_split(images, labels, train_size=0.8, random_state=0)\ntest_data[test_data>0]=1",
      "execution_count": null,
      "outputs": []
    },
    {
      "metadata": {
        "_uuid": "cd8e89d6f3162d54c1c1d8a48a4b117729986182"
      },
      "cell_type": "markdown",
      "source": "### 2.1.4 Check for null and missing values"
    },
    {
      "metadata": {
        "trusted": true,
        "_uuid": "f7f4a6bbaf7d08ad65070f0d184f847308ad93fd"
      },
      "cell_type": "code",
      "source": "print(train_images.info())\nprint(test_images.info())\nprint(test_data.info())",
      "execution_count": null,
      "outputs": []
    },
    {
      "metadata": {
        "_uuid": "15ed1d382a9f6c299404d119f5f498214b259ffa"
      },
      "cell_type": "markdown",
      "source": "## 2.2 Image Sharpening\n### 2.2.1 Reshaping and Trying out various thresholding and other image Filters"
    },
    {
      "metadata": {
        "trusted": true,
        "_uuid": "48411531b644cc706d312a6662fda619d42b4661"
      },
      "cell_type": "code",
      "source": "img= np.zeros((6400,28,28))\ntimg=np.zeros((1600,28,28))\nte=np.zeros((len(test_data),28,28))\nfor x in range(len(train_images)):\n r=train_images.iloc[x].values\n img[x]=r.reshape((28,28))\n img[x]=np.uint8(img[x])\nfor x in range(len(test_images)):\n r=test_images.iloc[x].values\n timg[x]=r.reshape((28,28))\n timg[x]=np.uint8(timg[x])\nfor x in range(len(test_data)):\n r=test_data.iloc[x].values\n te[x]=r.reshape((28,28))\n te[x]=np.uint8(te[x])\nvar=46;\nret,thresh1 = cv2.threshold(img[var],127,255,cv2.THRESH_BINARY)\nret,thresh2 = cv2.threshold(img[var],127,255,cv2.THRESH_BINARY_INV)\nret,thresh3 = cv2.threshold(img[var],127,255,cv2.THRESH_TRUNC)\nret,thresh4 = cv2.threshold(img[var],127,255,cv2.THRESH_TOZERO)\nret,thresh5 = cv2.threshold(img[var],127,255,cv2.THRESH_TOZERO_INV)\n\ntitles = ['Original Image','BINARY','BINARY_INV','TRUNC','TOZERO','TOZERO_INV']\nimages = [img[var], thresh1, thresh2, thresh3, thresh4, thresh5]\n\nfor i in range(6):\n    plt.subplot(2,3,i+1),plt.imshow(images[i],'gray')\n    plt.title(titles[i])\n    plt.xticks([]),plt.yticks([])\n    \nplt.show()\nprint(train_images.info())",
      "execution_count": null,
      "outputs": []
    },
    {
      "metadata": {
        "_uuid": "13158d8555a2f1dc30387fd2d38674bcea3a985b"
      },
      "cell_type": "markdown",
      "source": "### 2.2.2 Applying Binary Image Thresholding"
    },
    {
      "metadata": {
        "trusted": true,
        "_uuid": "439f27a9b9eb8c52419040aa736ac14c8e7cd9fb"
      },
      "cell_type": "code",
      "source": "for x in range(len(train_images)):\n r,img[x]=cv2.threshold(img[x],127,255,cv2.THRESH_BINARY)\nfor x in range(len(test_images)):\n r,timg[x]=cv2.threshold(timg[x],127,255,cv2.THRESH_BINARY)\nfor x in range(len(test_data)):\n r,te[x]=cv2.threshold(te[x],127,255,cv2.THRESH_BINARY)",
      "execution_count": null,
      "outputs": []
    },
    {
      "metadata": {
        "_uuid": "ef302de3d17da07bd3880c4f5f63c42d6244cba1"
      },
      "cell_type": "markdown",
      "source": "### 2.2.3 Flattening the image for training the model"
    },
    {
      "metadata": {
        "trusted": true,
        "_uuid": "a82e8131bf994457e48a0e1f163a56d1274535c3"
      },
      "cell_type": "code",
      "source": "a=np.zeros((6400,784))\nb=np.zeros((1600,784))\nc=np.zeros((len(test_data),784))\nfor x in range(len(img)):\n    a[x]=img[x].flatten()\nfor x in range(len(timg)):\n    b[x]=timg[x].flatten()\nfor x in range(len(te)):\n    c[x]=te[x].flatten();\n# r=img[7]\n# for x in range(len(train_images)):\n\n# for x in range(len(test_images)):\n#  timg[timg[x]>0]=1\n# plt.subplot(2,2,1),plt.imshow(r) \n# plt.title('Original Image')\n# plt.subplot(2,2,2),plt.imshow(img[7]) \n# plt.title('Rescaled Image')\n# images = cv2.imread(img[7], cv2.IMREAD_COLOR)  # uint8 image\n",
      "execution_count": null,
      "outputs": []
    },
    {
      "metadata": {
        "_uuid": "314bdd3bc59cf6fd366e1db86ed19c6e82adb1b6"
      },
      "cell_type": "markdown",
      "source": "# 3. Machine Learning Modeling\n## 3.1 Applying SVM on Unprocessed Dataset"
    },
    {
      "metadata": {
        "trusted": true,
        "_uuid": "490f445456259ef5aa6dc46c58edc14055d562d2"
      },
      "cell_type": "code",
      "source": "clf = svm.SVC()\nclf.fit(train_images, train_labels.values.ravel())\nclf.score(test_images,test_labels)",
      "execution_count": null,
      "outputs": []
    },
    {
      "metadata": {
        "_uuid": "2431a5259bb008097a767c362862f43d2b073fa3"
      },
      "cell_type": "markdown",
      "source": "## 3.2 Applying RBF on Processed Dataset"
    },
    {
      "metadata": {
        "trusted": true,
        "_uuid": "4f24667717480045476f94fa8518d29c1358c9ff"
      },
      "cell_type": "code",
      "source": "clf = svm.SVC(kernel='rbf',C=7,gamma=0.009)\nclf.fit(train_images, train_labels.values.ravel())\nclf.score(test_images,test_labels)",
      "execution_count": null,
      "outputs": []
    },
    {
      "metadata": {
        "_uuid": "acefeed37792996617456cf971d4947b0d68e171"
      },
      "cell_type": "markdown",
      "source": "## 3.3 Applying SVM on Processed Dataset"
    },
    {
      "metadata": {
        "trusted": true,
        "_uuid": "0cee77ab4438c4546f5483cc0b653bf48f613cdf"
      },
      "cell_type": "code",
      "source": "test_images[test_images>0]=1\ntrain_images[train_images>0]=1\nclf = svm.SVC()\nclf.fit(train_images,train_labels.values.ravel())\nclf.score(test_images,test_labels)",
      "execution_count": null,
      "outputs": []
    },
    {
      "metadata": {
        "_uuid": "25760d03a49fac1f75467f2efc2f71d85595519d"
      },
      "cell_type": "markdown",
      "source": "## 3.4 RBF Kernel on Processed Dataset"
    },
    {
      "metadata": {
        "trusted": true,
        "_uuid": "1aacb943fbf254ad0877eb5d2109951c1f412f1f"
      },
      "cell_type": "code",
      "source": "clf = svm.SVC(kernel='rbf',C=7,gamma=0.009)\nclf.fit(train_images,train_labels.values.ravel())\nclf.score(test_images,test_labels)",
      "execution_count": null,
      "outputs": []
    },
    {
      "metadata": {
        "_uuid": "489727424f59aad257afc8a4b78954e36682aa1e"
      },
      "cell_type": "markdown",
      "source": "# 4. Prediction and Submission\n## 4.1 Predicting the Test Data using the trained RBF Kernel"
    },
    {
      "metadata": {
        "trusted": true,
        "_uuid": "1e5841ca83912d5bd264e6b062e81f601adc209c"
      },
      "cell_type": "code",
      "source": "results=clf.predict(test_data)",
      "execution_count": null,
      "outputs": []
    },
    {
      "metadata": {
        "_uuid": "ee252d7c857ac4ba01b43e66911c315111e3674a"
      },
      "cell_type": "markdown",
      "source": "## 4.2 Labelling the Output and Submission"
    },
    {
      "metadata": {
        "trusted": true,
        "_uuid": "b2c711e55486875e2cd720f4858ce06805d0a264"
      },
      "cell_type": "code",
      "source": "df = pd.DataFrame(results)\ndf.index.name='ImageId'\ndf.index+=1\ndf.columns=['Label']\ndf.to_csv('results.csv', header=True)",
      "execution_count": null,
      "outputs": []
    }
  ],
  "metadata": {
    "kernelspec": {
      "display_name": "Python 3",
      "language": "python",
      "name": "python3"
    },
    "language_info": {
      "name": "python",
      "version": "3.6.6",
      "mimetype": "text/x-python",
      "codemirror_mode": {
        "name": "ipython",
        "version": 3
      },
      "pygments_lexer": "ipython3",
      "nbconvert_exporter": "python",
      "file_extension": ".py"
    }
  },
  "nbformat": 4,
  "nbformat_minor": 1
}